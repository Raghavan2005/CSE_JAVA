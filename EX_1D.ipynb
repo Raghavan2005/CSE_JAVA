{
 "cells": [
  {
   "cell_type": "code",
   "execution_count": 11,
   "id": "09755a9a",
   "metadata": {},
   "outputs": [],
   "source": [
    "\n",
    "from cryptography.fernet import Fernet"
   ]
  },
  {
   "cell_type": "code",
   "execution_count": 12,
   "id": "0e990958",
   "metadata": {},
   "outputs": [],
   "source": [
    "\n",
    "key = Fernet.generate_key()\n",
    "f = Fernet(key)\n",
    "token = f.encrypt(b'Rajalakshmi Engineering College')"
   ]
  },
  {
   "cell_type": "code",
   "execution_count": 13,
   "id": "c7295b09",
   "metadata": {},
   "outputs": [
    {
     "data": {
      "text/plain": [
       "b'gAAAAABm1TOLTiK9fE4Q78Co3-xXHCEBbjrjGG1_IVZXwa_3qbDralMyxa4HWRYtQge2JR1rG-AFTpfbMVpCVIgQo4bxi5c7ibGoI0-0EbfcU7dHOtPodU0='"
      ]
     },
     "execution_count": 13,
     "metadata": {},
     "output_type": "execute_result"
    }
   ],
   "source": [
    "token"
   ]
  },
  {
   "cell_type": "code",
   "execution_count": null,
   "id": "1a11816b",
   "metadata": {},
   "outputs": [],
   "source": []
  }
 ],
 "metadata": {
  "kernelspec": {
   "display_name": "Python 3 (ipykernel)",
   "language": "python",
   "name": "python3"
  },
  "language_info": {
   "codemirror_mode": {
    "name": "ipython",
    "version": 3
   },
   "file_extension": ".py",
   "mimetype": "text/x-python",
   "name": "python",
   "nbconvert_exporter": "python",
   "pygments_lexer": "ipython3",
   "version": "3.10.9"
  }
 },
 "nbformat": 4,
 "nbformat_minor": 5
}
