{
 "cells": [
  {
   "cell_type": "code",
   "execution_count": 1,
   "id": "6dafa613",
   "metadata": {},
   "outputs": [],
   "source": [
    "import pandas as pd\n",
    "import matplotlib.pyplot as plt"
   ]
  },
  {
   "cell_type": "code",
   "execution_count": 2,
   "id": "562e7304",
   "metadata": {},
   "outputs": [
    {
     "ename": "SyntaxError",
     "evalue": "invalid syntax (121923834.py, line 1)",
     "output_type": "error",
     "traceback": [
      "\u001b[1;36m  Cell \u001b[1;32mIn[2], line 1\u001b[1;36m\u001b[0m\n\u001b[1;33m    roles = [&#39;Data Analyst&#39;, &#39;Data Engineer&#39;, &#39;Data Scientist&#39;, &#39;ML Engineer&#39;,\u001b[0m\n\u001b[1;37m             ^\u001b[0m\n\u001b[1;31mSyntaxError\u001b[0m\u001b[1;31m:\u001b[0m invalid syntax\n"
     ]
    }
   ],
   "source": [
    "roles = [\"Data Analyst\",\"Data Engineer\",\" Data Scientist\", \"ML Engineer\",\n",
    "\"Business Analyst\"]\n",
    "counts = [300, 500, 450, 200, 150]"
   ]
  },
  {
   "cell_type": "code",
   "execution_count": null,
   "id": "810305d2",
   "metadata": {},
   "outputs": [],
   "source": [
    "plt.bar(roles, counts)\n",
    "plt.title(&#39;Distribution of Data Science Roles&#39;)\n",
    "plt.xlabel(&#39;Role&#39;)\n",
    "plt.ylabel(&#39;Count&#39;)\n",
    "plt.show()"
   ]
  }
 ],
 "metadata": {
  "kernelspec": {
   "display_name": "Python 3 (ipykernel)",
   "language": "python",
   "name": "python3"
  },
  "language_info": {
   "codemirror_mode": {
    "name": "ipython",
    "version": 3
   },
   "file_extension": ".py",
   "mimetype": "text/x-python",
   "name": "python",
   "nbconvert_exporter": "python",
   "pygments_lexer": "ipython3",
   "version": "3.10.9"
  }
 },
 "nbformat": 4,
 "nbformat_minor": 5
}
